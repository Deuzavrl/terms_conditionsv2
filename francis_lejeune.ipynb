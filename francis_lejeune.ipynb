{
 "cells": [
  {
   "cell_type": "markdown",
   "id": "2ce2536a",
   "metadata": {},
   "source": [
    "# Create a first list of websites"
   ]
  },
  {
   "cell_type": "markdown",
   "id": "ae46c0df",
   "metadata": {},
   "source": [
    "## determining patterns inside website "
   ]
  },
  {
   "cell_type": "markdown",
   "id": "169fc681",
   "metadata": {},
   "source": [
    "first note, it seems there is multiple different \"legal content\". We need to determine wich one are interesting for us\n",
    "- Terms of Service / terms and conditions : protects the business\n",
    "- Cookie Policy\n",
    "- Privacy Policy : protects the user\n",
    "- Refund Policy"
   ]
  },
  {
   "cell_type": "markdown",
   "id": "27a4039b",
   "metadata": {},
   "source": [
    "there are many names for t&c (terms and conditions)\n",
    "terms of service\n",
    "user agreement\n",
    "terms of use"
   ]
  },
  {
   "cell_type": "code",
   "execution_count": 53,
   "id": "fa47de89",
   "metadata": {},
   "outputs": [],
   "source": [
    "# A first list of websites\n",
    "\n",
    "websites = [\n",
    "   \"https://www.pipedrive.com\",\n",
    "    \"https://www.hubspot.com\",\n",
    "    \"https://www.linkedin.com\",\n",
    "    \"https://wikipedia.org\",\n",
    "    \"https://www.producthunt.com/\",\n",
    "    \"https://stripe.com/\"\n",
    "     \n",
    "]"
   ]
  },
  {
   "cell_type": "markdown",
   "id": "6000e837",
   "metadata": {},
   "source": [
    "# Create a first scraper"
   ]
  },
  {
   "cell_type": "code",
   "execution_count": 63,
   "id": "01363db8",
   "metadata": {},
   "outputs": [],
   "source": [
    "# importing necessary packages\n",
    "from os import path\n",
    "from selenium import webdriver\n",
    "from selenium.webdriver.chrome.options import Options\n",
    "from webdriver_manager.chrome import ChromeDriverManager\n",
    "from selenium.webdriver.chrome.service import Service\n",
    "from selenium.webdriver.common.by import By\n",
    "from bs4 import BeautifulSoup \n",
    "import requests\n",
    "import csv\n"
   ]
  },
  {
   "cell_type": "code",
   "execution_count": 64,
   "id": "8c34a851",
   "metadata": {},
   "outputs": [],
   "source": [
    "def driverLauncher(url):\n",
    "    # a function that set the driver with all necessary options\n",
    "    \n",
    "    # Chromedriver options\n",
    "    options = Options()\n",
    "    options.add_argument('headless') #avoir chromedriver opening\n",
    "    options.add_argument('window-size=1920x1080')\n",
    "    options.add_argument(\"disable-gpu\")\n",
    "    options.add_argument(\"--lang=en\"); #set english as language\n",
    "    \n",
    "    # setting the driver\n",
    "    driver = webdriver.Chrome(service=Service(ChromeDriverManager().install()), options=options)\n",
    "    driver.get(url)\n",
    "    driver.implicitly_wait(5) #wait X sec to be sure the webpage is fully loaded\n",
    "    #driver.quit()\n",
    "\n",
    "    return driver"
   ]
  },
  {
   "cell_type": "code",
   "execution_count": null,
   "id": "c9c744c4",
   "metadata": {
    "scrolled": true
   },
   "outputs": [],
   "source": [
    "\n",
    "def tcTextScraper(url):\n",
    "    #scrap all the text from a t&c webpage \n",
    "    \n",
    "    # Chromedriver options\n",
    "    options = Options()\n",
    "    options.add_argument('headless') #avoir chromedriver opening\n",
    "    options.add_argument('window-size=1920x1080')\n",
    "    options.add_argument(\"disable-gpu\")\n",
    "    options.add_argument(\"--lang=en\"); #set english as language\n",
    "    \n",
    "    # setting the driver\n",
    "    driver = webdriver.Chrome(service=Service(ChromeDriverManager().install()), options=options)\n",
    "    driver.get(url)\n",
    "    driver.implicitly_wait(5) #wait X sec to be sure the webpage is fully loaded\n",
    "    source = driver.page_source\n",
    "    driver.quit()\n",
    "\n",
    "    # dumb scraping function that returns all text (from a t&c) webpage\n",
    "    soup = BeautifulSoup(source, \"html.parser\")\n",
    "    \n",
    "    result = soup.text\n",
    "    return result\n",
    "\n",
    "#first try with an url directly aiming to terms and services of a website\n",
    "url_test = \"https://www.surveymonkey.com/mp/legal/terms-of-use/\"\n",
    "print(tcTextScraper(url_test))"
   ]
  },
  {
   "cell_type": "code",
   "execution_count": 106,
   "id": "d5ef7180",
   "metadata": {
    "scrolled": true
   },
   "outputs": [
    {
     "name": "stderr",
     "output_type": "stream",
     "text": [
      "\n",
      "\n",
      "====== WebDriver manager ======\n",
      "Current google-chrome version is 98.0.4758\n",
      "Get LATEST chromedriver version for 98.0.4758 google-chrome\n",
      "Driver [/Users/lejeunefrancois/.wdm/drivers/chromedriver/mac64/98.0.4758.102/chromedriver] found in cache\n"
     ]
    },
    {
     "name": "stdout",
     "output_type": "stream",
     "text": [
      "'Terms of use' not working for https://wikipedia.org\n",
      "'Terms of Service' not working for https://wikipedia.org\n",
      "'Terms of service' not working for https://wikipedia.org\n",
      "'User Agreement' not working for https://wikipedia.org\n",
      "https://meta.wikimedia.org/wiki/Terms_of_use\n"
     ]
    }
   ],
   "source": [
    "# Now we need to create a scraping function that will find the t&c url\n",
    "\n",
    "def tcLinkExtractor(url):\n",
    "    # Chromedriver options\n",
    "    options = Options()\n",
    "    options.add_argument('headless') #avoir chromedriver opening\n",
    "    options.add_argument('window-size=1920x1080')\n",
    "    options.add_argument(\"disable-gpu\")\n",
    "    options.add_argument(\"--lang=en\"); #set english as language\n",
    "    \n",
    "    # setting the driver\n",
    "    driver = webdriver.Chrome(service=Service(ChromeDriverManager().install()), options=options)\n",
    "    driver.get(url)\n",
    "    driver.implicitly_wait(5) #wait X sec to be sure the webpage is fully loaded\n",
    "    source = driver.page_source #defines html code source as source var\n",
    "        \n",
    "    #defining a list of all possible names of t&c\n",
    "    tc_names = ['Terms of Use','Terms of use','Terms of Service', 'Terms of service',\\\n",
    "                'User Agreement']\n",
    "    \n",
    "    #creating an empty variable to return \"\" if no link if found\n",
    "    tc_url = \"\"\n",
    "    \n",
    "    for tc_name in tc_names:\n",
    "        try:\n",
    "            tc_url = driver.find_element(By.XPATH,f\"//a[text()='{tc_name}']\").get_attribute('href')\n",
    "        except:\n",
    "            print(f\"'{tc_name}' not working for {url}\")\n",
    "        \n",
    "    return tc_url\n",
    "\n",
    "\n",
    "test_v = tcLinkExtractor(websites[3])\n",
    "print(test_v)"
   ]
  },
  {
   "cell_type": "markdown",
   "id": "90c72e19",
   "metadata": {},
   "source": [
    "...\n",
    "idea : to get the term and condition webpage everytime : we can try to use XML file (sitemap)\n",
    "/sitemap.xml\n",
    "/sitemap-index.xml\n",
    "/sitemap.php\n",
    "/sitemap.txt\n",
    "/sitemap.xml.gz\n",
    "/sitemap/\n",
    "/sitemap/sitemap.xml\n",
    "/sitemapindex.xml\n",
    "/sitemap/index.xml\n",
    "/sitemap1.xml"
   ]
  },
  {
   "cell_type": "markdown",
   "id": "f0d26e85",
   "metadata": {},
   "source": [
    "# Create an API "
   ]
  },
  {
   "cell_type": "code",
   "execution_count": null,
   "id": "b2da230e",
   "metadata": {},
   "outputs": [],
   "source": []
  }
 ],
 "metadata": {
  "kernelspec": {
   "display_name": "Python 3 (ipykernel)",
   "language": "python",
   "name": "python3"
  },
  "language_info": {
   "codemirror_mode": {
    "name": "ipython",
    "version": 3
   },
   "file_extension": ".py",
   "mimetype": "text/x-python",
   "name": "python",
   "nbconvert_exporter": "python",
   "pygments_lexer": "ipython3",
   "version": "3.8.12"
  },
  "toc": {
   "base_numbering": 1,
   "nav_menu": {},
   "number_sections": true,
   "sideBar": true,
   "skip_h1_title": false,
   "title_cell": "Table of Contents",
   "title_sidebar": "Contents",
   "toc_cell": false,
   "toc_position": {},
   "toc_section_display": true,
   "toc_window_display": false
  }
 },
 "nbformat": 4,
 "nbformat_minor": 5
}
