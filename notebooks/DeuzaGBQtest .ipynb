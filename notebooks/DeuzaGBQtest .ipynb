{
 "cells": [
  {
   "cell_type": "code",
   "execution_count": 24,
   "id": "2a400362",
   "metadata": {},
   "outputs": [],
   "source": [
    "from google.cloud import storage\n",
    "import os\n",
    "import pandas as pd"
   ]
  },
  {
   "cell_type": "code",
   "execution_count": 25,
   "id": "5e74899f",
   "metadata": {},
   "outputs": [],
   "source": [
    "from datalab.context import Context\n",
    "import google.datalab.storage as storage\n",
    "import google.datalab.bigquery as bq\n",
    "import datalab.storage as gcs"
   ]
  },
  {
   "cell_type": "code",
   "execution_count": 28,
   "id": "414a3503",
   "metadata": {},
   "outputs": [],
   "source": [
    "name = \"site_name\"\n",
    "site = \"name\"\n",
    "terms = \"trxt1234\"\n",
    "text = \"raw_text\""
   ]
  },
  {
   "cell_type": "code",
   "execution_count": 29,
   "id": "c574b7da",
   "metadata": {
    "scrolled": true
   },
   "outputs": [
    {
     "name": "stderr",
     "output_type": "stream",
     "text": [
      "Updated property [core/project].\n",
      "Updated property [core/project].\n",
      "Updated property [core/project].\n"
     ]
    },
    {
     "data": {
      "text/plain": [
       "BigQuery Table - name: le-wagon-340409.dsprivacyterms.website_data"
      ]
     },
     "execution_count": 29,
     "metadata": {},
     "output_type": "execute_result"
    }
   ],
   "source": [
    "# Dataframe to write\n",
    "\n",
    "simple_dataframe = pd.DataFrame(data=[{site,terms}],columns=[name,text])\n",
    "\n",
    "bucket_name = \"privacyterms\"\n",
    "bucket_path = 'gs://' + \"privacyterms\" + bucket_name\n",
    "sample_bucket_object = bucket_path + '/Hello.txt'# dont know what this does, need to ask ben\n",
    "bigquery_dataset_name = 'dsprivacyterms'\n",
    "bigquery_table_name = 'website_data'\n",
    "\n",
    "# Define storage bucket\n",
    "sample_bucket = storage.Bucket(bucket_name)\n",
    "\n",
    "# Create storage bucket if it does not exist\n",
    "if not sample_bucket.exists():\n",
    "    sample_bucket.create()\n",
    "\n",
    "# Define BigQuery dataset and table\n",
    "dataset = bq.Dataset(bigquery_dataset_name)\n",
    "table = bq.Table(bigquery_dataset_name + '.' + bigquery_table_name)\n",
    "\n",
    "# Create BigQuery dataset\n",
    "if not dataset.exists():\n",
    "    dataset.create()\n",
    "\n",
    "# Create or overwrite the existing table if it exists\n",
    "table_schema = bq.Schema.from_data(simple_dataframe)\n",
    "table.create(schema = table_schema, overwrite = True)"
   ]
  },
  {
   "cell_type": "code",
   "execution_count": 37,
   "id": "dfb5520b",
   "metadata": {},
   "outputs": [],
   "source": [
    "# Write the DataFrame to GCS (Google Cloud Storage)\n",
    "import datalab.storage as gcs\n",
    "gcs.Bucket('privacyterms').item('website_data.csv').write_to(simple_dataframe.to_csv(),'text/csv')"
   ]
  },
  {
   "cell_type": "code",
   "execution_count": 38,
   "id": "a3973462",
   "metadata": {},
   "outputs": [
    {
     "data": {
      "text/plain": [
       "BigQuery Table - name: le-wagon-340409.dsprivacyterms.website_data"
      ]
     },
     "execution_count": 38,
     "metadata": {},
     "output_type": "execute_result"
    }
   ],
   "source": [
    "#needs to be in a seperate line\n",
    "# Write the DataFrame to a BigQuery table\n",
    "table.insert(simple_dataframe)"
   ]
  },
  {
   "cell_type": "code",
   "execution_count": null,
   "id": "117ab957",
   "metadata": {},
   "outputs": [],
   "source": []
  }
 ],
 "metadata": {
  "kernelspec": {
   "display_name": "Python 3 (ipykernel)",
   "language": "python",
   "name": "python3"
  },
  "language_info": {
   "codemirror_mode": {
    "name": "ipython",
    "version": 3
   },
   "file_extension": ".py",
   "mimetype": "text/x-python",
   "name": "python",
   "nbconvert_exporter": "python",
   "pygments_lexer": "ipython3",
   "version": "3.8.12"
  },
  "toc": {
   "base_numbering": 1,
   "nav_menu": {},
   "number_sections": true,
   "sideBar": true,
   "skip_h1_title": false,
   "title_cell": "Table of Contents",
   "title_sidebar": "Contents",
   "toc_cell": false,
   "toc_position": {},
   "toc_section_display": true,
   "toc_window_display": false
  }
 },
 "nbformat": 4,
 "nbformat_minor": 5
}
