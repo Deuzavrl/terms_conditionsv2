{
 "cells": [
  {
   "cell_type": "markdown",
   "id": "2ce2536a",
   "metadata": {},
   "source": [
    "# List of websites and t&c patterns"
   ]
  },
  {
   "cell_type": "markdown",
   "id": "a253fbbe",
   "metadata": {
    "heading_collapsed": true
   },
   "source": [
    "## Loading a big website list"
   ]
  },
  {
   "cell_type": "markdown",
   "id": "7fb87072",
   "metadata": {
    "hidden": true
   },
   "source": [
    "Here we manually listed a few websites, but the idea would be to launch a big csv to fill our Lake quickly :-)"
   ]
  },
  {
   "cell_type": "code",
   "execution_count": 1,
   "id": "6455bb1e",
   "metadata": {
    "hidden": true
   },
   "outputs": [],
   "source": [
    "#manually \n",
    "\n",
    "websites_try = [\n",
    "'https://www.linkedin.com/',\n",
    "'https://www.booking.com/index.html?aid=1743217',\n",
    "'https://travelsites.com/expedia/',\n",
    "'https://travelsites.com/tripadvisor/',\n",
    "'https://www.momondo.in/?ispredir=true',\n",
    "'https://www.ebookers.com/?AFFCID=EBOOKERS-UK.network.affiliatewindow.85386&awc=7904_1606029543_518c2af76500871f76cadec26f8eb055',\n",
    "'https://book.priceline.com/?refid=8431&refclickid=d196c1c3cad4c6e474196ac6815f9652',\n",
    "'https://www.trip.com/index?locale=en_us&allianceid=21934&SID=455408&ouid=198c18a52c8911eb811b00ce0a18050d',\n",
    "'https://www.orbitz.com/',\n",
    "'https://www.travelocity.com/',\n",
    "'https://www.hotwire.com/',\n",
    "'https://www.otel.com/',\n",
    "'https://www.ebookers.com/?AFFCID=EBOOKERS-UK.network.affiliatewindow.85386&awc=7904_1606041576_a3c281bcb3eae0af35b22b076d1074ae',\n",
    "'https://www.airbnb.co.in/?locale=en&_set_bev_on_new_domain=1606041642_YjI0OGQ3OWI5MDI2',\n",
    "'https://in.lastminute.com/'\n",
    "]"
   ]
  },
  {
   "cell_type": "code",
   "execution_count": 2,
   "id": "1969aafc",
   "metadata": {
    "hidden": true
   },
   "outputs": [],
   "source": [
    "import pandas as pd\n",
    "import csv"
   ]
  },
  {
   "cell_type": "code",
   "execution_count": 19,
   "id": "0de3a96b",
   "metadata": {
    "hidden": true
   },
   "outputs": [
    {
     "data": {
      "text/plain": [
       "\"\\nwith open('file.csv', newline='') as f:\\n    reader = csv.reader(f)\\n    websites_data = list(reader)\\n\\nprint(websites_data)\""
      ]
     },
     "execution_count": 19,
     "metadata": {},
     "output_type": "execute_result"
    }
   ],
   "source": [
    "# csv loading\n",
    "\"\"\"\n",
    "with open('file.csv', newline='') as f:\n",
    "    reader = csv.reader(f)\n",
    "    websites_data = list(reader)\n",
    "\n",
    "print(websites_data)\"\"\""
   ]
  },
  {
   "cell_type": "markdown",
   "id": "ae46c0df",
   "metadata": {},
   "source": [
    "## determining patterns inside website "
   ]
  },
  {
   "cell_type": "markdown",
   "id": "4919d753",
   "metadata": {},
   "source": [
    "The idea of this section is to list \"all\" the possible appelation of t&c on websites. The more we know how t&c are called on websites, the more we will be able to scrape it :-)"
   ]
  },
  {
   "cell_type": "code",
   "execution_count": 3,
   "id": "b61a645e",
   "metadata": {},
   "outputs": [],
   "source": [
    "\n",
    "#defining a list of all possible names of t&c\n",
    "tc_names = ['Terms and conditions','Terms of Use','Terms of use','Terms of Service', \\\n",
    "            'Terms of service','User Agreement','Terms','terms', 'Privacy & terms',\\\n",
    "            ' User Agreement ','Terms & conditions', 'Terms & Conditions', \\\n",
    "            'General conditions', 'Terms & Conditions', 'Terms and Conditions',\\\n",
    "            'Terms and conditions']\n",
    "\n",
    "# idea for opti : rank the appelations in the list based on the popularity of it\n",
    "# the more we find \"Terms of Use\" on websites, the more likely this appelation\n",
    "# will be at the beginning of the list"
   ]
  },
  {
   "cell_type": "markdown",
   "id": "6000e837",
   "metadata": {},
   "source": [
    "# Creating our first scrapers"
   ]
  },
  {
   "cell_type": "markdown",
   "id": "13353343",
   "metadata": {},
   "source": [
    "## The scrapers :-)"
   ]
  },
  {
   "cell_type": "markdown",
   "id": "58c2cef6",
   "metadata": {},
   "source": [
    "A section dedicated to the differents scrappers functions "
   ]
  },
  {
   "cell_type": "code",
   "execution_count": 4,
   "id": "01363db8",
   "metadata": {},
   "outputs": [],
   "source": [
    "# importing necessary packages\n",
    "from os import path\n",
    "from selenium import webdriver\n",
    "from selenium.webdriver.chrome.options import Options\n",
    "from webdriver_manager.chrome import ChromeDriverManager\n",
    "from selenium.webdriver.chrome.service import Service\n",
    "from selenium.webdriver.common.by import By\n",
    "from bs4 import BeautifulSoup \n",
    "import requests\n",
    "import csv\n"
   ]
  },
  {
   "cell_type": "markdown",
   "id": "443d6794",
   "metadata": {},
   "source": [
    "### The t&c url scrapper"
   ]
  },
  {
   "cell_type": "markdown",
   "id": "53c7cd75",
   "metadata": {},
   "source": [
    "The scraper in this section has one mission : find the t&c page url on every website ! "
   ]
  },
  {
   "cell_type": "code",
   "execution_count": 16,
   "id": "d5ef7180",
   "metadata": {
    "scrolled": true
   },
   "outputs": [],
   "source": [
    "# Now we need to create a scraping function that will find the t&c url inside a website\n",
    "\n",
    "def tcLinkExtractor(url,tc_names,time=5):\n",
    "    # Chromedriver options\n",
    "    options = Options()\n",
    "    options.add_argument('headless') #avoir chromedriver opening\n",
    "    options.add_argument('window-size=1920x1080')\n",
    "    options.add_argument(\"disable-gpu\")\n",
    "    options.add_argument(\"--lang=en\"); #set english as language\n",
    "    \n",
    "    # setting the driver\n",
    "    driver = webdriver.Chrome(service=Service(ChromeDriverManager().install()), options=options)\n",
    "    driver.get(url)\n",
    "    driver.implicitly_wait(time) #wait X sec to be sure the webpage is fully loaded\n",
    "    source = driver.page_source #defines html code source as source var\n",
    "        \n",
    "    \n",
    "    \n",
    "    #creating an empty variable to return \"\" if no link if found\n",
    "    tc_url = \"\"\n",
    "    \n",
    "    for tc_name in tc_names:\n",
    "        try:\n",
    "            tc_url = driver.find_element(By.XPATH,f\"//*[text()[contains(., '{tc_name}')]]\").get_attribute('href')\n",
    "            break\n",
    "        except:\n",
    "            #print(f\"'{tc_name}' not working for {url}\")\n",
    "            #nw_working_site = tc_name\n",
    "            pass\n",
    "    driver.quit()  \n",
    "    \n",
    "    if tc_url == \"\":\n",
    "        print(f\"{url} : t&c not matched \")\n",
    "        return tc_url\n",
    "    \n",
    "    else:\n",
    "        print(f\"bingo for {url} :-) \")\n",
    "        return tc_url"
   ]
  },
  {
   "cell_type": "markdown",
   "id": "8671dede",
   "metadata": {
    "heading_collapsed": true
   },
   "source": [
    "### the t&c page TEXT extractor"
   ]
  },
  {
   "cell_type": "markdown",
   "id": "51145753",
   "metadata": {
    "hidden": true
   },
   "source": [
    "This scraper will extract the text from every webpage we feed him with"
   ]
  },
  {
   "cell_type": "code",
   "execution_count": 23,
   "id": "b13605b9",
   "metadata": {
    "hidden": true
   },
   "outputs": [],
   "source": [
    "def tcTextScraper(url):\n",
    "    #scrap all the text from a t&c webpage \n",
    "    \n",
    "    # Chromedriver options\n",
    "    options = Options()\n",
    "    options.add_argument('headless') #avoir chromedriver opening\n",
    "    options.add_argument('window-size=1920x1080')\n",
    "    options.add_argument(\"disable-gpu\")\n",
    "    options.add_argument(\"--lang=en\"); #set english as language\n",
    "    \n",
    "    # setting the driver\n",
    "    driver = webdriver.Chrome(service=Service(ChromeDriverManager().install()), options=options)\n",
    "    driver.get(url)\n",
    "    driver.implicitly_wait(5) #wait X sec to be sure the webpage is fully loaded\n",
    "    source = driver.page_source\n",
    "    driver.quit()\n",
    "\n",
    "    # dumb scraping function that returns all text (from a t&c) webpage\n",
    "    soup = BeautifulSoup(source, \"html.parser\")\n",
    "    \n",
    "    result = soup.text\n",
    "    return result\n",
    "\n",
    "#first try with an url directly aiming to terms and services of a website\n",
    "#url_test = \"https://www.surveymonkey.com/mp/legal/terms-of-use/\"\n",
    "#print(tcTextScraper(url_test))"
   ]
  },
  {
   "cell_type": "markdown",
   "id": "577e3550",
   "metadata": {
    "heading_collapsed": true
   },
   "source": [
    "## scrapper quick testing section"
   ]
  },
  {
   "cell_type": "markdown",
   "id": "da2cc243",
   "metadata": {
    "hidden": true
   },
   "source": [
    "To try how (i?) updates work :) \n",
    "=> It will launch the tcLinkExtractor on a basic website list to see if everything works"
   ]
  },
  {
   "cell_type": "code",
   "execution_count": 14,
   "id": "a0a381fd",
   "metadata": {
    "hidden": true
   },
   "outputs": [],
   "source": [
    "# A first list of websites (to use to try scrapper)\n",
    "\n",
    "websites = [\n",
    "    \"https://www.linkedin.com\",\n",
    "    \"https://wikipedia.org\",\n",
    "    \"https://www.producthunt.com\",\n",
    "    \"https://stripe.com\",\n",
    "    \"https://www.facebook.com\"\n",
    "]"
   ]
  },
  {
   "cell_type": "code",
   "execution_count": 15,
   "id": "8c3c2fde",
   "metadata": {
    "hidden": true
   },
   "outputs": [
    {
     "name": "stderr",
     "output_type": "stream",
     "text": [
      "\n",
      "\n",
      "====== WebDriver manager ======\n",
      "Current google-chrome version is 98.0.4758\n",
      "Get LATEST chromedriver version for 98.0.4758 google-chrome\n",
      "Driver [/Users/lejeunefrancois/.wdm/drivers/chromedriver/mac64/98.0.4758.102/chromedriver] found in cache\n",
      "\n",
      "\n",
      "====== WebDriver manager ======\n",
      "Current google-chrome version is 98.0.4758\n",
      "Get LATEST chromedriver version for 98.0.4758 google-chrome\n",
      "Driver [/Users/lejeunefrancois/.wdm/drivers/chromedriver/mac64/98.0.4758.102/chromedriver] found in cache\n"
     ]
    },
    {
     "name": "stdout",
     "output_type": "stream",
     "text": [
      "bingo for https://www.linkedin.com :-) \n"
     ]
    },
    {
     "name": "stderr",
     "output_type": "stream",
     "text": [
      "\n",
      "\n",
      "====== WebDriver manager ======\n",
      "Current google-chrome version is 98.0.4758\n",
      "Get LATEST chromedriver version for 98.0.4758 google-chrome\n"
     ]
    },
    {
     "name": "stdout",
     "output_type": "stream",
     "text": [
      "bingo for https://wikipedia.org :-) \n"
     ]
    },
    {
     "name": "stderr",
     "output_type": "stream",
     "text": [
      "Driver [/Users/lejeunefrancois/.wdm/drivers/chromedriver/mac64/98.0.4758.102/chromedriver] found in cache\n",
      "\n",
      "\n",
      "====== WebDriver manager ======\n",
      "Current google-chrome version is 98.0.4758\n",
      "Get LATEST chromedriver version for 98.0.4758 google-chrome\n",
      "Driver [/Users/lejeunefrancois/.wdm/drivers/chromedriver/mac64/98.0.4758.102/chromedriver] found in cache\n"
     ]
    },
    {
     "name": "stdout",
     "output_type": "stream",
     "text": [
      "bingo for https://www.producthunt.com :-) \n"
     ]
    },
    {
     "name": "stderr",
     "output_type": "stream",
     "text": [
      "\n",
      "\n",
      "====== WebDriver manager ======\n",
      "Current google-chrome version is 98.0.4758\n",
      "Get LATEST chromedriver version for 98.0.4758 google-chrome\n",
      "Driver [/Users/lejeunefrancois/.wdm/drivers/chromedriver/mac64/98.0.4758.102/chromedriver] found in cache\n"
     ]
    },
    {
     "name": "stdout",
     "output_type": "stream",
     "text": [
      "bingo for https://stripe.com :-) \n",
      "bingo for https://www.facebook.com :-) \n"
     ]
    },
    {
     "data": {
      "text/plain": [
       "['https://www.linkedin.com/legal/user-agreement?trk=homepage-basic_footer-user-agreement',\n",
       " 'https://meta.wikimedia.org/wiki/Terms_of_use',\n",
       " 'https://www.producthunt.com/legal#terms',\n",
       " 'https://stripe.com/en-fr/privacy',\n",
       " 'https://www.facebook.com/policies?ref=pf']"
      ]
     },
     "execution_count": 15,
     "metadata": {},
     "output_type": "execute_result"
    }
   ],
   "source": [
    "tc_urls = []\n",
    "for website in websites:\n",
    "    tc_urls.append(tcLinkExtractor(website,tc_names,1))\n",
    "\n",
    "tc_urls"
   ]
  },
  {
   "cell_type": "markdown",
   "id": "39594748",
   "metadata": {},
   "source": [
    "# launching the scraper : extracting t&c urls"
   ]
  },
  {
   "cell_type": "markdown",
   "id": "a33afe4a",
   "metadata": {},
   "source": [
    "Here we try the scrapper in the real world to (try to) extract a maximum of t&c urls.\n",
    "\n",
    "In order for the scrapper to work you must use the <b>tcLinkExtractor(data,tc_names,time) </b>function with those arguments :\n",
    "\n",
    "- <b>data</b> = the website list you want to launch the scraper on\n",
    "- <b>tc_names</b> = the list of t&c appelations to launch. Use \"tc_names\" by default\n",
    "- <b>time</b> = the nb of seconds you want the scraper to wait each time he loads a website (defaut = 2 but it can be optimized)"
   ]
  },
  {
   "cell_type": "code",
   "execution_count": 6,
   "id": "a886fe64",
   "metadata": {
    "scrolled": false
   },
   "outputs": [
    {
     "name": "stderr",
     "output_type": "stream",
     "text": [
      "\n",
      "\n",
      "====== WebDriver manager ======\n",
      "Current google-chrome version is 98.0.4758\n",
      "Get LATEST chromedriver version for 98.0.4758 google-chrome\n",
      "Driver [/Users/lejeunefrancois/.wdm/drivers/chromedriver/mac64/98.0.4758.102/chromedriver] found in cache\n",
      "\n",
      "\n",
      "====== WebDriver manager ======\n",
      "Current google-chrome version is 98.0.4758\n",
      "Get LATEST chromedriver version for 98.0.4758 google-chrome\n",
      "Driver [/Users/lejeunefrancois/.wdm/drivers/chromedriver/mac64/98.0.4758.102/chromedriver] found in cache\n"
     ]
    },
    {
     "name": "stdout",
     "output_type": "stream",
     "text": [
      "https://www.linkedin.com/ : t&c not matched \n"
     ]
    },
    {
     "name": "stderr",
     "output_type": "stream",
     "text": [
      "\n",
      "\n",
      "====== WebDriver manager ======\n",
      "Current google-chrome version is 98.0.4758\n",
      "Get LATEST chromedriver version for 98.0.4758 google-chrome\n",
      "Driver [/Users/lejeunefrancois/.wdm/drivers/chromedriver/mac64/98.0.4758.102/chromedriver] found in cache\n"
     ]
    },
    {
     "name": "stdout",
     "output_type": "stream",
     "text": [
      "https://www.booking.com/index.html?aid=1743217 : t&c not matched \n"
     ]
    },
    {
     "name": "stderr",
     "output_type": "stream",
     "text": [
      "\n",
      "\n",
      "====== WebDriver manager ======\n",
      "Current google-chrome version is 98.0.4758\n",
      "Get LATEST chromedriver version for 98.0.4758 google-chrome\n",
      "Driver [/Users/lejeunefrancois/.wdm/drivers/chromedriver/mac64/98.0.4758.102/chromedriver] found in cache\n"
     ]
    },
    {
     "name": "stdout",
     "output_type": "stream",
     "text": [
      "bingo for https://travelsites.com/expedia/ :-) \n"
     ]
    },
    {
     "name": "stderr",
     "output_type": "stream",
     "text": [
      "\n",
      "\n",
      "====== WebDriver manager ======\n",
      "Current google-chrome version is 98.0.4758\n",
      "Get LATEST chromedriver version for 98.0.4758 google-chrome\n",
      "Driver [/Users/lejeunefrancois/.wdm/drivers/chromedriver/mac64/98.0.4758.102/chromedriver] found in cache\n"
     ]
    },
    {
     "name": "stdout",
     "output_type": "stream",
     "text": [
      "bingo for https://travelsites.com/tripadvisor/ :-) \n"
     ]
    },
    {
     "name": "stderr",
     "output_type": "stream",
     "text": [
      "\n",
      "\n",
      "====== WebDriver manager ======\n",
      "Current google-chrome version is 98.0.4758\n",
      "Get LATEST chromedriver version for 98.0.4758 google-chrome\n",
      "Driver [/Users/lejeunefrancois/.wdm/drivers/chromedriver/mac64/98.0.4758.102/chromedriver] found in cache\n"
     ]
    },
    {
     "name": "stdout",
     "output_type": "stream",
     "text": [
      "bingo for https://www.momondo.in/?ispredir=true :-) \n"
     ]
    },
    {
     "name": "stderr",
     "output_type": "stream",
     "text": [
      "\n",
      "\n",
      "====== WebDriver manager ======\n",
      "Current google-chrome version is 98.0.4758\n",
      "Get LATEST chromedriver version for 98.0.4758 google-chrome\n",
      "Driver [/Users/lejeunefrancois/.wdm/drivers/chromedriver/mac64/98.0.4758.102/chromedriver] found in cache\n"
     ]
    },
    {
     "name": "stdout",
     "output_type": "stream",
     "text": [
      "https://www.ebookers.com/?AFFCID=EBOOKERS-UK.network.affiliatewindow.85386&awc=7904_1606029543_518c2af76500871f76cadec26f8eb055 : t&c not matched \n"
     ]
    },
    {
     "name": "stderr",
     "output_type": "stream",
     "text": [
      "\n",
      "\n",
      "====== WebDriver manager ======\n",
      "Current google-chrome version is 98.0.4758\n",
      "Get LATEST chromedriver version for 98.0.4758 google-chrome\n",
      "Driver [/Users/lejeunefrancois/.wdm/drivers/chromedriver/mac64/98.0.4758.102/chromedriver] found in cache\n"
     ]
    },
    {
     "name": "stdout",
     "output_type": "stream",
     "text": [
      "https://book.priceline.com/?refid=8431&refclickid=d196c1c3cad4c6e474196ac6815f9652 : t&c not matched \n"
     ]
    },
    {
     "name": "stderr",
     "output_type": "stream",
     "text": [
      "\n",
      "\n",
      "====== WebDriver manager ======\n",
      "Current google-chrome version is 98.0.4758\n",
      "Get LATEST chromedriver version for 98.0.4758 google-chrome\n"
     ]
    },
    {
     "name": "stdout",
     "output_type": "stream",
     "text": [
      "bingo for https://www.trip.com/index?locale=en_us&allianceid=21934&SID=455408&ouid=198c18a52c8911eb811b00ce0a18050d :-) \n"
     ]
    },
    {
     "name": "stderr",
     "output_type": "stream",
     "text": [
      "Driver [/Users/lejeunefrancois/.wdm/drivers/chromedriver/mac64/98.0.4758.102/chromedriver] found in cache\n",
      "\n",
      "\n",
      "====== WebDriver manager ======\n",
      "Current google-chrome version is 98.0.4758\n",
      "Get LATEST chromedriver version for 98.0.4758 google-chrome\n",
      "Driver [/Users/lejeunefrancois/.wdm/drivers/chromedriver/mac64/98.0.4758.102/chromedriver] found in cache\n"
     ]
    },
    {
     "name": "stdout",
     "output_type": "stream",
     "text": [
      "https://www.orbitz.com/ : t&c not matched \n"
     ]
    },
    {
     "name": "stderr",
     "output_type": "stream",
     "text": [
      "\n",
      "\n",
      "====== WebDriver manager ======\n",
      "Current google-chrome version is 98.0.4758\n",
      "Get LATEST chromedriver version for 98.0.4758 google-chrome\n",
      "Driver [/Users/lejeunefrancois/.wdm/drivers/chromedriver/mac64/98.0.4758.102/chromedriver] found in cache\n"
     ]
    },
    {
     "name": "stdout",
     "output_type": "stream",
     "text": [
      "https://www.travelocity.com/ : t&c not matched \n"
     ]
    },
    {
     "name": "stderr",
     "output_type": "stream",
     "text": [
      "\n",
      "\n",
      "====== WebDriver manager ======\n",
      "Current google-chrome version is 98.0.4758\n",
      "Get LATEST chromedriver version for 98.0.4758 google-chrome\n",
      "Driver [/Users/lejeunefrancois/.wdm/drivers/chromedriver/mac64/98.0.4758.102/chromedriver] found in cache\n"
     ]
    },
    {
     "name": "stdout",
     "output_type": "stream",
     "text": [
      "bingo for https://www.hotwire.com/ :-) \n"
     ]
    },
    {
     "name": "stderr",
     "output_type": "stream",
     "text": [
      "\n",
      "\n",
      "====== WebDriver manager ======\n",
      "Current google-chrome version is 98.0.4758\n",
      "Get LATEST chromedriver version for 98.0.4758 google-chrome\n"
     ]
    },
    {
     "name": "stdout",
     "output_type": "stream",
     "text": [
      "https://www.otel.com/ : t&c not matched \n"
     ]
    },
    {
     "name": "stderr",
     "output_type": "stream",
     "text": [
      "Driver [/Users/lejeunefrancois/.wdm/drivers/chromedriver/mac64/98.0.4758.102/chromedriver] found in cache\n",
      "\n",
      "\n",
      "====== WebDriver manager ======\n",
      "Current google-chrome version is 98.0.4758\n",
      "Get LATEST chromedriver version for 98.0.4758 google-chrome\n",
      "Driver [/Users/lejeunefrancois/.wdm/drivers/chromedriver/mac64/98.0.4758.102/chromedriver] found in cache\n"
     ]
    },
    {
     "name": "stdout",
     "output_type": "stream",
     "text": [
      "https://www.ebookers.com/?AFFCID=EBOOKERS-UK.network.affiliatewindow.85386&awc=7904_1606041576_a3c281bcb3eae0af35b22b076d1074ae : t&c not matched \n"
     ]
    },
    {
     "name": "stderr",
     "output_type": "stream",
     "text": [
      "\n",
      "\n",
      "====== WebDriver manager ======\n",
      "Current google-chrome version is 98.0.4758\n",
      "Get LATEST chromedriver version for 98.0.4758 google-chrome\n"
     ]
    },
    {
     "name": "stdout",
     "output_type": "stream",
     "text": [
      "bingo for https://www.airbnb.co.in/?locale=en&_set_bev_on_new_domain=1606041642_YjI0OGQ3OWI5MDI2 :-) \n"
     ]
    },
    {
     "name": "stderr",
     "output_type": "stream",
     "text": [
      "Driver [/Users/lejeunefrancois/.wdm/drivers/chromedriver/mac64/98.0.4758.102/chromedriver] found in cache\n"
     ]
    },
    {
     "name": "stdout",
     "output_type": "stream",
     "text": [
      "https://in.lastminute.com/ : t&c not matched \n"
     ]
    },
    {
     "data": {
      "text/plain": [
       "['',\n",
       " '',\n",
       " 'https://travelsites.com/terms-and-conditions/',\n",
       " 'https://travelsites.com/terms-and-conditions/',\n",
       " 'https://www.momondo.in/terms-of-use',\n",
       " '',\n",
       " '',\n",
       " 'https://pages.trip.com/service-guideline/terms-en-us.html',\n",
       " '',\n",
       " '',\n",
       " 'https://www.hotwire.com/en/content/terms-use?cc=us',\n",
       " '',\n",
       " '',\n",
       " 'https://www.airbnb.co.in/terms',\n",
       " '']"
      ]
     },
     "execution_count": 6,
     "metadata": {},
     "output_type": "execute_result"
    }
   ],
   "source": [
    "tc_urls = []\n",
    "for website in websites_try:\n",
    "    tc_urls.append(tcLinkExtractor(website,tc_names,2))\n",
    "\n",
    "tc_urls"
   ]
  },
  {
   "cell_type": "markdown",
   "id": "20e6b59a",
   "metadata": {},
   "source": [
    "=> Once the scraper finished his job (all websites were parsed), you can run the following command to see the performance ( = for how many % of provided websites the scraper managed to find the t&c page)"
   ]
  },
  {
   "cell_type": "code",
   "execution_count": 7,
   "id": "fc3ab93e",
   "metadata": {},
   "outputs": [
    {
     "name": "stdout",
     "output_type": "stream",
     "text": [
      "Our magnificient scrapper found 40.0 % of t&c pages (6 on 15)\n"
     ]
    }
   ],
   "source": [
    "# We compute the % of t&c urls\n",
    "leng = len(tc_urls)\n",
    "okies = leng - tc_urls.count(\"\")\n",
    "\n",
    "result = okies/leng\n",
    "print(f\"Our magnificient scrapper found {result*100} % of t&c pages ({okies} on {leng})\")"
   ]
  },
  {
   "cell_type": "code",
   "execution_count": null,
   "id": "b028b14b",
   "metadata": {},
   "outputs": [],
   "source": []
  }
 ],
 "metadata": {
  "kernelspec": {
   "display_name": "Python 3 (ipykernel)",
   "language": "python",
   "name": "python3"
  },
  "language_info": {
   "codemirror_mode": {
    "name": "ipython",
    "version": 3
   },
   "file_extension": ".py",
   "mimetype": "text/x-python",
   "name": "python",
   "nbconvert_exporter": "python",
   "pygments_lexer": "ipython3",
   "version": "3.8.12"
  },
  "toc": {
   "base_numbering": 1,
   "nav_menu": {},
   "number_sections": true,
   "sideBar": true,
   "skip_h1_title": false,
   "title_cell": "Table of Contents",
   "title_sidebar": "Contents",
   "toc_cell": false,
   "toc_position": {},
   "toc_section_display": true,
   "toc_window_display": false
  }
 },
 "nbformat": 4,
 "nbformat_minor": 5
}
